{
  "nbformat": 4,
  "nbformat_minor": 0,
  "metadata": {
    "colab": {
      "provenance": []
    },
    "kernelspec": {
      "name": "python3",
      "display_name": "Python 3"
    },
    "language_info": {
      "name": "python"
    }
  },
  "cells": [
    {
      "cell_type": "markdown",
      "source": [
        "\n",
        "Implementation of pca using mathematical concepts/equation.\n",
        "\n",
        "In this,I have used two scaling method which are stadardization and normalization.\n",
        "\n",
        "stepwise process is as follow: \n",
        "1. standardizing/normalizing the data\n",
        "2. finding covariaence metrics\n",
        "3. finding eigen values\n",
        "4. finding eigen vectors\n",
        "5. finding pricipal components\n"
      ],
      "metadata": {
        "id": "QXylzpsD6RsC"
      }
    },
    {
      "cell_type": "markdown",
      "source": [
        "**importing required libraries**"
      ],
      "metadata": {
        "id": "47OF2iHoLqkw"
      }
    },
    {
      "cell_type": "code",
      "execution_count": 1,
      "metadata": {
        "id": "La6c-CQdu2uL"
      },
      "outputs": [],
      "source": [
        "import pandas as pd\n",
        "import numpy as np\n",
        "import matplotlib.pyplot as plt\n",
        "from numpy.linalg import eig\n",
        "from sklearn.preprocessing import StandardScaler\n"
      ]
    },
    {
      "cell_type": "markdown",
      "source": [
        "**reading excel file**"
      ],
      "metadata": {
        "id": "SX76YBhBLzPw"
      }
    },
    {
      "cell_type": "code",
      "source": [
        "df=pd.read_excel(\"pca2.xlsx\")\n",
        "df.head()"
      ],
      "metadata": {
        "colab": {
          "base_uri": "https://localhost:8080/",
          "height": 175
        },
        "id": "4wlUsC1PNv3-",
        "outputId": "3ef8a240-6b28-4e3f-822e-3f865fe2d550"
      },
      "execution_count": 2,
      "outputs": [
        {
          "output_type": "execute_result",
          "data": {
            "text/plain": [
              "    X  Y\n",
              "0   1  2\n",
              "1   5  6\n",
              "2  10  3\n",
              "3  15  8"
            ],
            "text/html": [
              "\n",
              "  <div id=\"df-e7de3088-6685-411b-a3d0-3d3c55e589f9\">\n",
              "    <div class=\"colab-df-container\">\n",
              "      <div>\n",
              "<style scoped>\n",
              "    .dataframe tbody tr th:only-of-type {\n",
              "        vertical-align: middle;\n",
              "    }\n",
              "\n",
              "    .dataframe tbody tr th {\n",
              "        vertical-align: top;\n",
              "    }\n",
              "\n",
              "    .dataframe thead th {\n",
              "        text-align: right;\n",
              "    }\n",
              "</style>\n",
              "<table border=\"1\" class=\"dataframe\">\n",
              "  <thead>\n",
              "    <tr style=\"text-align: right;\">\n",
              "      <th></th>\n",
              "      <th>X</th>\n",
              "      <th>Y</th>\n",
              "    </tr>\n",
              "  </thead>\n",
              "  <tbody>\n",
              "    <tr>\n",
              "      <th>0</th>\n",
              "      <td>1</td>\n",
              "      <td>2</td>\n",
              "    </tr>\n",
              "    <tr>\n",
              "      <th>1</th>\n",
              "      <td>5</td>\n",
              "      <td>6</td>\n",
              "    </tr>\n",
              "    <tr>\n",
              "      <th>2</th>\n",
              "      <td>10</td>\n",
              "      <td>3</td>\n",
              "    </tr>\n",
              "    <tr>\n",
              "      <th>3</th>\n",
              "      <td>15</td>\n",
              "      <td>8</td>\n",
              "    </tr>\n",
              "  </tbody>\n",
              "</table>\n",
              "</div>\n",
              "      <button class=\"colab-df-convert\" onclick=\"convertToInteractive('df-e7de3088-6685-411b-a3d0-3d3c55e589f9')\"\n",
              "              title=\"Convert this dataframe to an interactive table.\"\n",
              "              style=\"display:none;\">\n",
              "        \n",
              "  <svg xmlns=\"http://www.w3.org/2000/svg\" height=\"24px\"viewBox=\"0 0 24 24\"\n",
              "       width=\"24px\">\n",
              "    <path d=\"M0 0h24v24H0V0z\" fill=\"none\"/>\n",
              "    <path d=\"M18.56 5.44l.94 2.06.94-2.06 2.06-.94-2.06-.94-.94-2.06-.94 2.06-2.06.94zm-11 1L8.5 8.5l.94-2.06 2.06-.94-2.06-.94L8.5 2.5l-.94 2.06-2.06.94zm10 10l.94 2.06.94-2.06 2.06-.94-2.06-.94-.94-2.06-.94 2.06-2.06.94z\"/><path d=\"M17.41 7.96l-1.37-1.37c-.4-.4-.92-.59-1.43-.59-.52 0-1.04.2-1.43.59L10.3 9.45l-7.72 7.72c-.78.78-.78 2.05 0 2.83L4 21.41c.39.39.9.59 1.41.59.51 0 1.02-.2 1.41-.59l7.78-7.78 2.81-2.81c.8-.78.8-2.07 0-2.86zM5.41 20L4 18.59l7.72-7.72 1.47 1.35L5.41 20z\"/>\n",
              "  </svg>\n",
              "      </button>\n",
              "      \n",
              "  <style>\n",
              "    .colab-df-container {\n",
              "      display:flex;\n",
              "      flex-wrap:wrap;\n",
              "      gap: 12px;\n",
              "    }\n",
              "\n",
              "    .colab-df-convert {\n",
              "      background-color: #E8F0FE;\n",
              "      border: none;\n",
              "      border-radius: 50%;\n",
              "      cursor: pointer;\n",
              "      display: none;\n",
              "      fill: #1967D2;\n",
              "      height: 32px;\n",
              "      padding: 0 0 0 0;\n",
              "      width: 32px;\n",
              "    }\n",
              "\n",
              "    .colab-df-convert:hover {\n",
              "      background-color: #E2EBFA;\n",
              "      box-shadow: 0px 1px 2px rgba(60, 64, 67, 0.3), 0px 1px 3px 1px rgba(60, 64, 67, 0.15);\n",
              "      fill: #174EA6;\n",
              "    }\n",
              "\n",
              "    [theme=dark] .colab-df-convert {\n",
              "      background-color: #3B4455;\n",
              "      fill: #D2E3FC;\n",
              "    }\n",
              "\n",
              "    [theme=dark] .colab-df-convert:hover {\n",
              "      background-color: #434B5C;\n",
              "      box-shadow: 0px 1px 3px 1px rgba(0, 0, 0, 0.15);\n",
              "      filter: drop-shadow(0px 1px 2px rgba(0, 0, 0, 0.3));\n",
              "      fill: #FFFFFF;\n",
              "    }\n",
              "  </style>\n",
              "\n",
              "      <script>\n",
              "        const buttonEl =\n",
              "          document.querySelector('#df-e7de3088-6685-411b-a3d0-3d3c55e589f9 button.colab-df-convert');\n",
              "        buttonEl.style.display =\n",
              "          google.colab.kernel.accessAllowed ? 'block' : 'none';\n",
              "\n",
              "        async function convertToInteractive(key) {\n",
              "          const element = document.querySelector('#df-e7de3088-6685-411b-a3d0-3d3c55e589f9');\n",
              "          const dataTable =\n",
              "            await google.colab.kernel.invokeFunction('convertToInteractive',\n",
              "                                                     [key], {});\n",
              "          if (!dataTable) return;\n",
              "\n",
              "          const docLinkHtml = 'Like what you see? Visit the ' +\n",
              "            '<a target=\"_blank\" href=https://colab.research.google.com/notebooks/data_table.ipynb>data table notebook</a>'\n",
              "            + ' to learn more about interactive tables.';\n",
              "          element.innerHTML = '';\n",
              "          dataTable['output_type'] = 'display_data';\n",
              "          await google.colab.output.renderOutput(dataTable, element);\n",
              "          const docLink = document.createElement('div');\n",
              "          docLink.innerHTML = docLinkHtml;\n",
              "          element.appendChild(docLink);\n",
              "        }\n",
              "      </script>\n",
              "    </div>\n",
              "  </div>\n",
              "  "
            ]
          },
          "metadata": {},
          "execution_count": 2
        }
      ]
    },
    {
      "cell_type": "markdown",
      "source": [
        "**defining two features**"
      ],
      "metadata": {
        "id": "n0KOy71TL7Lh"
      }
    },
    {
      "cell_type": "code",
      "source": [
        "X=df['X']\n",
        "Y=df['Y']"
      ],
      "metadata": {
        "id": "Tg1qutRtD_ei"
      },
      "execution_count": 3,
      "outputs": []
    },
    {
      "cell_type": "markdown",
      "source": [
        "**scatter plot of two features before standardization**"
      ],
      "metadata": {
        "id": "-S2siqVdMC70"
      }
    },
    {
      "cell_type": "code",
      "source": [
        "plt.scatter(X,Y)"
      ],
      "metadata": {
        "colab": {
          "base_uri": "https://localhost:8080/",
          "height": 282
        },
        "id": "aOcLULrZIa3N",
        "outputId": "0063a39e-f699-463e-b0a1-c2a6525420ba"
      },
      "execution_count": 4,
      "outputs": [
        {
          "output_type": "execute_result",
          "data": {
            "text/plain": [
              "<matplotlib.collections.PathCollection at 0x7f0466cf7940>"
            ]
          },
          "metadata": {},
          "execution_count": 4
        },
        {
          "output_type": "display_data",
          "data": {
            "text/plain": [
              "<Figure size 432x288 with 1 Axes>"
            ],
            "image/png": "[encoded data removed]"
          },
          "metadata": {
            "needs_background": "light"
          }
        }
      ]
    },
    {
      "cell_type": "code",
      "source": [
        "X=np.array(X)\n",
        "X=X.reshape(-1,1)\n",
        "Y=np.array(Y)\n",
        "Y=Y.reshape(-1,1)"
      ],
      "metadata": {
        "id": "kWvan5E9ENWA"
      },
      "execution_count": 5,
      "outputs": []
    },
    {
      "cell_type": "code",
      "source": [
        "X"
      ],
      "metadata": {
        "colab": {
          "base_uri": "https://localhost:8080/",
          "height": 0
        },
        "id": "hdX9wv-JHnTw",
        "outputId": "c4d79bb1-1c4c-4db7-c69e-898666b84d35"
      },
      "execution_count": 6,
      "outputs": [
        {
          "output_type": "execute_result",
          "data": {
            "text/plain": [
              "array([[ 1],\n",
              "       [ 5],\n",
              "       [10],\n",
              "       [15]])"
            ]
          },
          "metadata": {},
          "execution_count": 6
        }
      ]
    },
    {
      "cell_type": "code",
      "source": [
        "Y"
      ],
      "metadata": {
        "colab": {
          "base_uri": "https://localhost:8080/",
          "height": 0
        },
        "id": "OQpH-si-ERI2",
        "outputId": "19847845-02bc-4544-e886-8baf7ca1cbcb"
      },
      "execution_count": 7,
      "outputs": [
        {
          "output_type": "execute_result",
          "data": {
            "text/plain": [
              "array([[2],\n",
              "       [6],\n",
              "       [3],\n",
              "       [8]])"
            ]
          },
          "metadata": {},
          "execution_count": 7
        }
      ]
    },
    {
      "cell_type": "markdown",
      "source": [
        "**step 1 : standardize the data.In PCA we standardize the data instead of normalization.the reasons for that are stated below:**\n",
        "\n",
        "1. suppose I have dataset which contains feature like vehicle weight,efficiency,\n",
        "price.now if I find the how price changes with respect to 100 pound increase in weight,so I get 204 increase in price and 0.6009 reduction in efficiency.\n",
        "so I can't get the idea about which relationship(weight-price,weight-efficiency) is stronger because unit for weight-price relationship and unit for weight-efficiency is different.\n",
        "\n",
        "  To get the idea which relationship is stronger we need to standardize the data so that each feature will have same unit and we can get the idea about which relationship is stronger.\n",
        "\n",
        "\n",
        "\n",
        "\n",
        "\n",
        "2. if we don't standardize then every feature will have different variance.So the feature with the higher variance will affect/dominant the pricipal component more.by stadardizing the features,each feature will have same variance(1) so every feature will have same dominance on pricipal component.\n"
      ],
      "metadata": {
        "id": "c4ry2n3pMLCI"
      }
    },
    {
      "cell_type": "code",
      "source": [
        "scaler=StandardScaler()\n",
        "X=scaler.fit_transform(X)\n",
        "Y=scaler.fit_transform(Y)"
      ],
      "metadata": {
        "id": "sxloxIu8rRSD"
      },
      "execution_count": 8,
      "outputs": []
    },
    {
      "cell_type": "code",
      "source": [
        "X"
      ],
      "metadata": {
        "colab": {
          "base_uri": "https://localhost:8080/",
          "height": 0
        },
        "id": "B9eb6fKbHeRa",
        "outputId": "07141d45-c3c1-484e-f8ac-df6a2fac7c50"
      },
      "execution_count": 9,
      "outputs": [
        {
          "output_type": "execute_result",
          "data": {
            "text/plain": [
              "array([[-1.28280871],\n",
              "       [-0.52262577],\n",
              "       [ 0.4276029 ],\n",
              "       [ 1.37783158]])"
            ]
          },
          "metadata": {},
          "execution_count": 9
        }
      ]
    },
    {
      "cell_type": "code",
      "source": [
        "Y"
      ],
      "metadata": {
        "colab": {
          "base_uri": "https://localhost:8080/",
          "height": 0
        },
        "id": "wAIgZB8OIYjU",
        "outputId": "869747ad-0969-4a9d-867a-01b1882c6c9f"
      },
      "execution_count": 10,
      "outputs": [
        {
          "output_type": "execute_result",
          "data": {
            "text/plain": [
              "array([[-1.15311332],\n",
              "       [ 0.52414242],\n",
              "       [-0.73379939],\n",
              "       [ 1.36277029]])"
            ]
          },
          "metadata": {},
          "execution_count": 10
        }
      ]
    },
    {
      "cell_type": "markdown",
      "source": [
        "**scatter plot of two features after standardization**"
      ],
      "metadata": {
        "id": "GtCes2fzQqGH"
      }
    },
    {
      "cell_type": "code",
      "source": [
        "plt.scatter(X,Y)"
      ],
      "metadata": {
        "colab": {
          "base_uri": "https://localhost:8080/",
          "height": 282
        },
        "id": "7QXOZ4oLrMpY",
        "outputId": "38196cfe-70a4-495e-c3a7-91bed211a22e"
      },
      "execution_count": 11,
      "outputs": [
        {
          "output_type": "execute_result",
          "data": {
            "text/plain": [
              "<matplotlib.collections.PathCollection at 0x7f04643c9e50>"
            ]
          },
          "metadata": {},
          "execution_count": 11
        },
        {
          "output_type": "display_data",
          "data": {
            "text/plain": [
              "<Figure size 432x288 with 1 Axes>"
            ],
            "image/png": "[encoded data removed]"
          },
          "metadata": {
            "needs_background": "light"
          }
        }
      ]
    },
    {
      "cell_type": "code",
      "source": [
        "x_bar=X.mean()\n",
        "x_bar"
      ],
      "metadata": {
        "colab": {
          "base_uri": "https://localhost:8080/",
          "height": 0
        },
        "id": "vmQMXOJsOgqy",
        "outputId": "1b6457f4-1d7f-4f42-a683-128cd88088e2"
      },
      "execution_count": 12,
      "outputs": [
        {
          "output_type": "execute_result",
          "data": {
            "text/plain": [
              "-5.551115123125783e-17"
            ]
          },
          "metadata": {},
          "execution_count": 12
        }
      ]
    },
    {
      "cell_type": "code",
      "source": [
        "y_bar=Y.mean()\n",
        "y_bar"
      ],
      "metadata": {
        "colab": {
          "base_uri": "https://localhost:8080/",
          "height": 0
        },
        "id": "CaNHi7hZQ6AJ",
        "outputId": "27da6fab-3978-49d1-e267-6bb61f6e0ab0"
      },
      "execution_count": 13,
      "outputs": [
        {
          "output_type": "execute_result",
          "data": {
            "text/plain": [
              "0.0"
            ]
          },
          "metadata": {},
          "execution_count": 13
        }
      ]
    },
    {
      "cell_type": "markdown",
      "source": [
        "**covariance metrics gives the measure of how feature differ with itself or other features**"
      ],
      "metadata": {
        "id": "OFeNZZ2uRwqS"
      }
    },
    {
      "cell_type": "markdown",
      "source": [
        "**defining function for finding covariance between features**"
      ],
      "metadata": {
        "id": "OEi5TdcPQyGW"
      }
    },
    {
      "cell_type": "code",
      "source": [
        "def covariance(first_variable=X,second_variable=Y):\n",
        "  sum_covariance=0\n",
        "  for i in range(len(X)):\n",
        "    sum_covariance=sum_covariance + ((first_variable[i]-x_bar)*(second_variable[i]-y_bar))\n",
        "    cov=sum_covariance/(len(df['X'])-1)\n",
        "  return cov"
      ],
      "metadata": {
        "id": "FEaal_2zPAQS"
      },
      "execution_count": 14,
      "outputs": []
    },
    {
      "cell_type": "code",
      "source": [
        "c_xy=c_yx=float(covariance(X,Y))"
      ],
      "metadata": {
        "id": "b16McQahUbIM"
      },
      "execution_count": 15,
      "outputs": []
    },
    {
      "cell_type": "code",
      "source": [
        "c_xx=float(covariance(X,X))"
      ],
      "metadata": {
        "id": "zjmvGyXpUg1G"
      },
      "execution_count": 16,
      "outputs": []
    },
    {
      "cell_type": "code",
      "source": [
        "c_yy=float(covariance(Y,Y))"
      ],
      "metadata": {
        "id": "MrNgw2sUWsqU"
      },
      "execution_count": 17,
      "outputs": []
    },
    {
      "cell_type": "code",
      "source": [
        "c_xx"
      ],
      "metadata": {
        "colab": {
          "base_uri": "https://localhost:8080/",
          "height": 0
        },
        "id": "XHRrSQQRW6PT",
        "outputId": "c727394c-a2d7-45ed-de68-2128ca4d5064"
      },
      "execution_count": 18,
      "outputs": [
        {
          "output_type": "execute_result",
          "data": {
            "text/plain": [
              "1.3333333333333337"
            ]
          },
          "metadata": {},
          "execution_count": 18
        }
      ]
    },
    {
      "cell_type": "code",
      "source": [
        "c_yy"
      ],
      "metadata": {
        "colab": {
          "base_uri": "https://localhost:8080/",
          "height": 0
        },
        "id": "Co8G8mLyXhfN",
        "outputId": "c8751805-c56b-4e75-bbcc-7e6fa58ffa92"
      },
      "execution_count": 19,
      "outputs": [
        {
          "output_type": "execute_result",
          "data": {
            "text/plain": [
              "1.3333333333333333"
            ]
          },
          "metadata": {},
          "execution_count": 19
        }
      ]
    },
    {
      "cell_type": "code",
      "source": [
        "c_xy"
      ],
      "metadata": {
        "colab": {
          "base_uri": "https://localhost:8080/",
          "height": 0
        },
        "id": "LNhh6JY3XiPL",
        "outputId": "afc5819c-c88a-4724-be72-c369e553c61e"
      },
      "execution_count": 20,
      "outputs": [
        {
          "output_type": "execute_result",
          "data": {
            "text/plain": [
              "0.9230622231709097"
            ]
          },
          "metadata": {},
          "execution_count": 20
        }
      ]
    },
    {
      "cell_type": "code",
      "source": [
        "c_yx"
      ],
      "metadata": {
        "colab": {
          "base_uri": "https://localhost:8080/",
          "height": 0
        },
        "id": "G_zVSgJgXi67",
        "outputId": "a0d2c4c1-ab30-4b7b-ef5b-13d6be41f0d4"
      },
      "execution_count": 21,
      "outputs": [
        {
          "output_type": "execute_result",
          "data": {
            "text/plain": [
              "0.9230622231709097"
            ]
          },
          "metadata": {},
          "execution_count": 21
        }
      ]
    },
    {
      "cell_type": "code",
      "source": [],
      "metadata": {
        "id": "O0EiJkz33LDD"
      },
      "execution_count": 21,
      "outputs": []
    },
    {
      "cell_type": "markdown",
      "source": [
        "**step 2 : finding covariance metrics**"
      ],
      "metadata": {
        "id": "o3cOqYG7RpWK"
      }
    },
    {
      "cell_type": "markdown",
      "source": [
        "**In PCA , we calculate the covariance matrix to find the directions of maximum variance in a dataset. The covariance matrix is a square matrix that contains the variances and covariances of all possible pairs of features in a dataset.This information is useful for reducing the dimensionality of the data, by identifying and removing variables that are redundant or not informative,**"
      ],
      "metadata": {
        "id": "2mV0qqX2UWnG"
      }
    },
    {
      "cell_type": "code",
      "source": [
        "c_metrics=np.array([[c_xx,c_xy],[c_yx,c_yy]])\n",
        "c_metrics"
      ],
      "metadata": {
        "colab": {
          "base_uri": "https://localhost:8080/",
          "height": 0
        },
        "id": "yOozL3aiXjl-",
        "outputId": "32782327-26c3-4aa7-b60e-729a2c29476b"
      },
      "execution_count": 22,
      "outputs": [
        {
          "output_type": "execute_result",
          "data": {
            "text/plain": [
              "array([[1.33333333, 0.92306222],\n",
              "       [0.92306222, 1.33333333]])"
            ]
          },
          "metadata": {},
          "execution_count": 22
        }
      ]
    },
    {
      "cell_type": "code",
      "source": [],
      "metadata": {
        "id": "H-XqzaiM3MIV"
      },
      "execution_count": 22,
      "outputs": []
    },
    {
      "cell_type": "markdown",
      "source": [
        "**step 3 : finding eigen values**"
      ],
      "metadata": {
        "id": "B3vjxk0_VGDT"
      }
    },
    {
      "cell_type": "markdown",
      "source": [
        "**eigen values give the measure of how much information eigen vector captures.Highest eigen value implies maximum information.because of that, we sort the eigen values in the descending order and find the eigen vector for each eigen values.**"
      ],
      "metadata": {
        "id": "BCO4JpnoVkhD"
      }
    },
    {
      "cell_type": "markdown",
      "source": [
        "**step 4 : finding eigen vectors**"
      ],
      "metadata": {
        "id": "kAhgaqI4WMwD"
      }
    },
    {
      "cell_type": "markdown",
      "source": [
        "**eigen vector gives the direction of principal component on which the data points are projected**"
      ],
      "metadata": {
        "id": "4Nn7_XtiWTgq"
      }
    },
    {
      "cell_type": "code",
      "source": [
        "eigenvalues,eigenvectors=eig(c_metrics)"
      ],
      "metadata": {
        "id": "w4phfbbzdQBz"
      },
      "execution_count": 23,
      "outputs": []
    },
    {
      "cell_type": "code",
      "source": [
        "eigenvalues"
      ],
      "metadata": {
        "colab": {
          "base_uri": "https://localhost:8080/",
          "height": 0
        },
        "id": "Dyd59klin5xv",
        "outputId": "4fc409ad-6913-4b0f-9886-abfdfdf37d38"
      },
      "execution_count": 24,
      "outputs": [
        {
          "output_type": "execute_result",
          "data": {
            "text/plain": [
              "array([2.25639556, 0.41027111])"
            ]
          },
          "metadata": {},
          "execution_count": 24
        }
      ]
    },
    {
      "cell_type": "code",
      "source": [
        "eigenvectors"
      ],
      "metadata": {
        "colab": {
          "base_uri": "https://localhost:8080/",
          "height": 0
        },
        "id": "wK-LgIRwh7f2",
        "outputId": "17219ef1-2458-4508-fd4f-f53aa46d8302"
      },
      "execution_count": 25,
      "outputs": [
        {
          "output_type": "execute_result",
          "data": {
            "text/plain": [
              "array([[ 0.70710678, -0.70710678],\n",
              "       [ 0.70710678,  0.70710678]])"
            ]
          },
          "metadata": {},
          "execution_count": 25
        }
      ]
    },
    {
      "cell_type": "code",
      "source": [
        "e1=eigenvectors[:,0]\n",
        "e1"
      ],
      "metadata": {
        "colab": {
          "base_uri": "https://localhost:8080/",
          "height": 0
        },
        "id": "5pWIKiGAkssb",
        "outputId": "cc85fc60-e52b-42c2-d7cb-8d6b047ca1c2"
      },
      "execution_count": 26,
      "outputs": [
        {
          "output_type": "execute_result",
          "data": {
            "text/plain": [
              "array([0.70710678, 0.70710678])"
            ]
          },
          "metadata": {},
          "execution_count": 26
        }
      ]
    },
    {
      "cell_type": "code",
      "source": [
        "e2=eigenvectors[:,1]\n",
        "e2"
      ],
      "metadata": {
        "colab": {
          "base_uri": "https://localhost:8080/",
          "height": 0
        },
        "id": "PYZlSMYWo0dS",
        "outputId": "b75f2206-281f-4bdb-e147-56629dd3ff28"
      },
      "execution_count": 27,
      "outputs": [
        {
          "output_type": "execute_result",
          "data": {
            "text/plain": [
              "array([-0.70710678,  0.70710678])"
            ]
          },
          "metadata": {},
          "execution_count": 27
        }
      ]
    },
    {
      "cell_type": "code",
      "source": [],
      "metadata": {
        "id": "DYZqw34IjDLM"
      },
      "execution_count": 27,
      "outputs": []
    },
    {
      "cell_type": "markdown",
      "source": [
        "**step 5 : finding pricipal component.**"
      ],
      "metadata": {
        "id": "bXHki7K63bIU"
      }
    },
    {
      "cell_type": "markdown",
      "source": [
        "**In this step we reduce the dimensionality and find the principal component value for each data point in lower dimension.**"
      ],
      "metadata": {
        "id": "IoJVl2NX3dCG"
      }
    },
    {
      "cell_type": "code",
      "source": [
        "sub_xy=[]\n",
        "for i in range(len(X)):\n",
        "  x_comp=(X[i][0]-x_bar)\n",
        "  y_comp=(Y[i][0]-y_bar)\n",
        "  sub_xy.append([x_comp,y_comp])"
      ],
      "metadata": {
        "id": "KmS-GtdDe79f"
      },
      "execution_count": 28,
      "outputs": []
    },
    {
      "cell_type": "code",
      "source": [
        "sub_xy"
      ],
      "metadata": {
        "colab": {
          "base_uri": "https://localhost:8080/",
          "height": 0
        },
        "id": "SSOve0-HcYKZ",
        "outputId": "5401e71d-a8af-4c7d-be7a-94a0fbf187b4"
      },
      "execution_count": 29,
      "outputs": [
        {
          "output_type": "execute_result",
          "data": {
            "text/plain": [
              "[[-1.2828087129930659, -1.1531133203941102],\n",
              " [-0.5226257719601379, 0.5241424183609592],\n",
              " [0.427602904331022, -0.7337993857053429],\n",
              " [1.3778315806221817, 1.3627702877384937]]"
            ]
          },
          "metadata": {},
          "execution_count": 29
        }
      ]
    },
    {
      "cell_type": "code",
      "source": [
        "pc1=[]\n",
        "pc2=[]\n",
        "for i in range(len(X)):\n",
        "  t=sub_xy[i]\n",
        "  t=np.array(t)\n",
        "  t=t.reshape(2,1)\n",
        "  e1=e1.reshape(1,2)\n",
        "  e2=e2.reshape(1,2)\n",
        "  p1=np.dot(e1,t)\n",
        "  p2=np.dot(e2,t)\n",
        "  pc1.append(p1[0][0])\n",
        "  pc2.append(p2[0][0])\n"
      ],
      "metadata": {
        "id": "BPPlxwMMgkhs"
      },
      "execution_count": 30,
      "outputs": []
    },
    {
      "cell_type": "code",
      "source": [
        "pc1"
      ],
      "metadata": {
        "colab": {
          "base_uri": "https://localhost:8080/",
          "height": 0
        },
        "id": "f0YEdpNphF6g",
        "outputId": "e8fe4f67-d16c-4775-9ffa-409d50779503"
      },
      "execution_count": 31,
      "outputs": [
        {
          "output_type": "execute_result",
          "data": {
            "text/plain": [
              "[-1.7224569882497955,\n",
              " 0.0010724309546827904,\n",
              " -0.21651360835524253,\n",
              " 1.9378981656503553]"
            ]
          },
          "metadata": {},
          "execution_count": 31
        }
      ]
    },
    {
      "cell_type": "code",
      "source": [
        "pc2"
      ],
      "metadata": {
        "colab": {
          "base_uri": "https://localhost:8080/",
          "height": 0
        },
        "id": "tQ_U9UT-hIJu",
        "outputId": "08ea65c5-cd16-4ab3-89e9-051d4fb556de"
      },
      "execution_count": 32,
      "outputs": [
        {
          "output_type": "execute_result",
          "data": {
            "text/plain": [
              "[0.09170849159537287,\n",
              " 0.7401768857064183,\n",
              " -0.821235434970299,\n",
              " -0.01064994233149219]"
            ]
          },
          "metadata": {},
          "execution_count": 32
        }
      ]
    },
    {
      "cell_type": "markdown",
      "source": [
        "**plotting both eigen vector**"
      ],
      "metadata": {
        "id": "JHw60OAo3n5P"
      }
    },
    {
      "cell_type": "code",
      "source": [
        "start_point = [x_bar, y_bar]\n",
        "end_point = [5, 5]\n",
        "line_points_1 = start_point + eigenvalues[0] * eigenvectors[:, 0]\n",
        "line_points_2 = start_point + eigenvalues[1] * eigenvectors[:, 1]\n",
        "\n",
        "plt.plot([start_point[0], line_points_1[0]], [start_point[1], line_points_1[1]], 'r', label='Eigenvector 1')\n",
        "plt.plot([start_point[0], line_points_2[0]], [start_point[1], line_points_2[1]], 'b', label='Eigenvector 2')\n",
        "\n",
        "plt.legend(loc='upper left')\n",
        "plt.title('Line Plot using Eigenvalues and Eigenvectors')\n",
        "plt.xlabel('X-axis')\n",
        "plt.ylabel('Y-axis')\n",
        "\n",
        "plt.xlim(-2, 2)\n",
        "plt.ylim(-2, 2)\n",
        "\n",
        "plt.show()"
      ],
      "metadata": {
        "colab": {
          "base_uri": "https://localhost:8080/",
          "height": 295
        },
        "id": "DO7D1gC-DIh3",
        "outputId": "c14e3026-19e8-4a75-9f29-ed9747f7ed4d"
      },
      "execution_count": 33,
      "outputs": [
        {
          "output_type": "display_data",
          "data": {
            "text/plain": [
              "<Figure size 432x288 with 1 Axes>"
            ],
            "image/png": "[encoded data removed]"
          },
          "metadata": {
            "needs_background": "light"
          }
        }
      ]
    },
    {
      "cell_type": "markdown",
      "source": [
        "**checking whether two pc are orthogonal or not using dot product of two variable.if dot product of two principal component is 0 then it is orthogonal**"
      ],
      "metadata": {
        "id": "cF0YwwYzHDOT"
      }
    },
    {
      "cell_type": "code",
      "source": [
        "np.vdot(line_points_1,line_points_2)"
      ],
      "metadata": {
        "colab": {
          "base_uri": "https://localhost:8080/",
          "height": 0
        },
        "id": "I_nkNVvhFD9E",
        "outputId": "d078580d-8bf5-4852-e4a9-97882127e3b0"
      },
      "execution_count": 34,
      "outputs": [
        {
          "output_type": "execute_result",
          "data": {
            "text/plain": [
              "-1.1102230246251565e-16"
            ]
          },
          "metadata": {},
          "execution_count": 34
        }
      ]
    },
    {
      "cell_type": "code",
      "source": [],
      "metadata": {
        "id": "v3VW_UtTlegc"
      },
      "execution_count": 34,
      "outputs": []
    },
    {
      "cell_type": "code",
      "source": [],
      "metadata": {
        "id": "xk5KflBxxK5e"
      },
      "execution_count": 34,
      "outputs": []
    },
    {
      "cell_type": "code",
      "source": [],
      "metadata": {
        "id": "rMI3XfAqxK2W"
      },
      "execution_count": 34,
      "outputs": []
    },
    {
      "cell_type": "markdown",
      "source": [
        "**Now using minmaxscaler**"
      ],
      "metadata": {
        "id": "h9elLNYq0y6o"
      }
    },
    {
      "cell_type": "code",
      "source": [
        "from sklearn.preprocessing import MinMaxScaler"
      ],
      "metadata": {
        "id": "WgzgavD5w07P"
      },
      "execution_count": 35,
      "outputs": []
    },
    {
      "cell_type": "code",
      "source": [
        "scaler=MinMaxScaler()"
      ],
      "metadata": {
        "id": "WjbWi3jBw01z"
      },
      "execution_count": 36,
      "outputs": []
    },
    {
      "cell_type": "code",
      "source": [
        "df=pd.read_excel(\"pca2.xlsx\")\n",
        "df.head()"
      ],
      "metadata": {
        "colab": {
          "base_uri": "https://localhost:8080/",
          "height": 175
        },
        "id": "GaNOTby_w5M1",
        "outputId": "0916dcd0-4d6f-448f-9dce-648774463760"
      },
      "execution_count": 37,
      "outputs": [
        {
          "output_type": "execute_result",
          "data": {
            "text/plain": [
              "    X  Y\n",
              "0   1  2\n",
              "1   5  6\n",
              "2  10  3\n",
              "3  15  8"
            ],
            "text/html": [
              "\n",
              "  <div id=\"df-5661fcf7-4681-41ac-8a8d-67ffc84f3046\">\n",
              "    <div class=\"colab-df-container\">\n",
              "      <div>\n",
              "<style scoped>\n",
              "    .dataframe tbody tr th:only-of-type {\n",
              "        vertical-align: middle;\n",
              "    }\n",
              "\n",
              "    .dataframe tbody tr th {\n",
              "        vertical-align: top;\n",
              "    }\n",
              "\n",
              "    .dataframe thead th {\n",
              "        text-align: right;\n",
              "    }\n",
              "</style>\n",
              "<table border=\"1\" class=\"dataframe\">\n",
              "  <thead>\n",
              "    <tr style=\"text-align: right;\">\n",
              "      <th></th>\n",
              "      <th>X</th>\n",
              "      <th>Y</th>\n",
              "    </tr>\n",
              "  </thead>\n",
              "  <tbody>\n",
              "    <tr>\n",
              "      <th>0</th>\n",
              "      <td>1</td>\n",
              "      <td>2</td>\n",
              "    </tr>\n",
              "    <tr>\n",
              "      <th>1</th>\n",
              "      <td>5</td>\n",
              "      <td>6</td>\n",
              "    </tr>\n",
              "    <tr>\n",
              "      <th>2</th>\n",
              "      <td>10</td>\n",
              "      <td>3</td>\n",
              "    </tr>\n",
              "    <tr>\n",
              "      <th>3</th>\n",
              "      <td>15</td>\n",
              "      <td>8</td>\n",
              "    </tr>\n",
              "  </tbody>\n",
              "</table>\n",
              "</div>\n",
              "      <button class=\"colab-df-convert\" onclick=\"convertToInteractive('df-5661fcf7-4681-41ac-8a8d-67ffc84f3046')\"\n",
              "              title=\"Convert this dataframe to an interactive table.\"\n",
              "              style=\"display:none;\">\n",
              "        \n",
              "  <svg xmlns=\"http://www.w3.org/2000/svg\" height=\"24px\"viewBox=\"0 0 24 24\"\n",
              "       width=\"24px\">\n",
              "    <path d=\"M0 0h24v24H0V0z\" fill=\"none\"/>\n",
              "    <path d=\"M18.56 5.44l.94 2.06.94-2.06 2.06-.94-2.06-.94-.94-2.06-.94 2.06-2.06.94zm-11 1L8.5 8.5l.94-2.06 2.06-.94-2.06-.94L8.5 2.5l-.94 2.06-2.06.94zm10 10l.94 2.06.94-2.06 2.06-.94-2.06-.94-.94-2.06-.94 2.06-2.06.94z\"/><path d=\"M17.41 7.96l-1.37-1.37c-.4-.4-.92-.59-1.43-.59-.52 0-1.04.2-1.43.59L10.3 9.45l-7.72 7.72c-.78.78-.78 2.05 0 2.83L4 21.41c.39.39.9.59 1.41.59.51 0 1.02-.2 1.41-.59l7.78-7.78 2.81-2.81c.8-.78.8-2.07 0-2.86zM5.41 20L4 18.59l7.72-7.72 1.47 1.35L5.41 20z\"/>\n",
              "  </svg>\n",
              "      </button>\n",
              "      \n",
              "  <style>\n",
              "    .colab-df-container {\n",
              "      display:flex;\n",
              "      flex-wrap:wrap;\n",
              "      gap: 12px;\n",
              "    }\n",
              "\n",
              "    .colab-df-convert {\n",
              "      background-color: #E8F0FE;\n",
              "      border: none;\n",
              "      border-radius: 50%;\n",
              "      cursor: pointer;\n",
              "      display: none;\n",
              "      fill: #1967D2;\n",
              "      height: 32px;\n",
              "      padding: 0 0 0 0;\n",
              "      width: 32px;\n",
              "    }\n",
              "\n",
              "    .colab-df-convert:hover {\n",
              "      background-color: #E2EBFA;\n",
              "      box-shadow: 0px 1px 2px rgba(60, 64, 67, 0.3), 0px 1px 3px 1px rgba(60, 64, 67, 0.15);\n",
              "      fill: #174EA6;\n",
              "    }\n",
              "\n",
              "    [theme=dark] .colab-df-convert {\n",
              "      background-color: #3B4455;\n",
              "      fill: #D2E3FC;\n",
              "    }\n",
              "\n",
              "    [theme=dark] .colab-df-convert:hover {\n",
              "      background-color: #434B5C;\n",
              "      box-shadow: 0px 1px 3px 1px rgba(0, 0, 0, 0.15);\n",
              "      filter: drop-shadow(0px 1px 2px rgba(0, 0, 0, 0.3));\n",
              "      fill: #FFFFFF;\n",
              "    }\n",
              "  </style>\n",
              "\n",
              "      <script>\n",
              "        const buttonEl =\n",
              "          document.querySelector('#df-5661fcf7-4681-41ac-8a8d-67ffc84f3046 button.colab-df-convert');\n",
              "        buttonEl.style.display =\n",
              "          google.colab.kernel.accessAllowed ? 'block' : 'none';\n",
              "\n",
              "        async function convertToInteractive(key) {\n",
              "          const element = document.querySelector('#df-5661fcf7-4681-41ac-8a8d-67ffc84f3046');\n",
              "          const dataTable =\n",
              "            await google.colab.kernel.invokeFunction('convertToInteractive',\n",
              "                                                     [key], {});\n",
              "          if (!dataTable) return;\n",
              "\n",
              "          const docLinkHtml = 'Like what you see? Visit the ' +\n",
              "            '<a target=\"_blank\" href=https://colab.research.google.com/notebooks/data_table.ipynb>data table notebook</a>'\n",
              "            + ' to learn more about interactive tables.';\n",
              "          element.innerHTML = '';\n",
              "          dataTable['output_type'] = 'display_data';\n",
              "          await google.colab.output.renderOutput(dataTable, element);\n",
              "          const docLink = document.createElement('div');\n",
              "          docLink.innerHTML = docLinkHtml;\n",
              "          element.appendChild(docLink);\n",
              "        }\n",
              "      </script>\n",
              "    </div>\n",
              "  </div>\n",
              "  "
            ]
          },
          "metadata": {},
          "execution_count": 37
        }
      ]
    },
    {
      "cell_type": "code",
      "source": [
        "X=df['X']\n",
        "Y=df['Y']"
      ],
      "metadata": {
        "id": "lTuWrHm6xRmL"
      },
      "execution_count": 38,
      "outputs": []
    },
    {
      "cell_type": "code",
      "source": [
        "X=np.array(X)\n",
        "X=X.reshape(-1,1)\n",
        "Y=np.array(Y)\n",
        "Y=Y.reshape(-1,1)"
      ],
      "metadata": {
        "id": "pjoxNbVoxh1l"
      },
      "execution_count": 39,
      "outputs": []
    },
    {
      "cell_type": "markdown",
      "source": [
        "**step 1 : Normalize the data.**"
      ],
      "metadata": {
        "id": "7CA1PDbn1-9x"
      }
    },
    {
      "cell_type": "code",
      "source": [
        "X=scaler.fit_transform(X)\n",
        "Y=scaler.fit_transform(Y)"
      ],
      "metadata": {
        "id": "p8zoy4AVxSdG"
      },
      "execution_count": 40,
      "outputs": []
    },
    {
      "cell_type": "code",
      "source": [
        "plt.scatter(X,Y)"
      ],
      "metadata": {
        "colab": {
          "base_uri": "https://localhost:8080/",
          "height": 282
        },
        "id": "Hs3_kHihxaji",
        "outputId": "85698456-c6cb-48ed-d0da-6a0e5a6f6eba"
      },
      "execution_count": 41,
      "outputs": [
        {
          "output_type": "execute_result",
          "data": {
            "text/plain": [
              "<matplotlib.collections.PathCollection at 0x7f046425db50>"
            ]
          },
          "metadata": {},
          "execution_count": 41
        },
        {
          "output_type": "display_data",
          "data": {
            "text/plain": [
              "<Figure size 432x288 with 1 Axes>"
            ],
            "image/png": "[encoded data removed]"
          },
          "metadata": {
            "needs_background": "light"
          }
        }
      ]
    },
    {
      "cell_type": "code",
      "source": [
        "x_bar=X.mean()\n",
        "x_bar"
      ],
      "metadata": {
        "colab": {
          "base_uri": "https://localhost:8080/",
          "height": 0
        },
        "id": "kkWGEBzxxpcY",
        "outputId": "759c6fcc-3456-44a5-ecb9-4b3ec9bda7bc"
      },
      "execution_count": 42,
      "outputs": [
        {
          "output_type": "execute_result",
          "data": {
            "text/plain": [
              "0.4821428571428571"
            ]
          },
          "metadata": {},
          "execution_count": 42
        }
      ]
    },
    {
      "cell_type": "code",
      "source": [
        "y_bar=Y.mean()\n",
        "y_bar"
      ],
      "metadata": {
        "colab": {
          "base_uri": "https://localhost:8080/",
          "height": 0
        },
        "id": "X4KaYAbsxtJf",
        "outputId": "8cbafcb7-7599-40a5-e48a-29f0b8ca0804"
      },
      "execution_count": 43,
      "outputs": [
        {
          "output_type": "execute_result",
          "data": {
            "text/plain": [
              "0.45833333333333337"
            ]
          },
          "metadata": {},
          "execution_count": 43
        }
      ]
    },
    {
      "cell_type": "markdown",
      "source": [
        "**step 2 : finding covariance metrics**"
      ],
      "metadata": {
        "id": "O8f8X8qD2THK"
      }
    },
    {
      "cell_type": "code",
      "source": [
        "def covariance(first_variable=X,second_variable=Y):\n",
        "  sum_covariance=0\n",
        "  for i in range(len(X)):\n",
        "    sum_covariance=sum_covariance + ((first_variable[i]-x_bar)*(second_variable[i]-y_bar))\n",
        "    cov=sum_covariance/(len(df['X'])-1)\n",
        "  return cov"
      ],
      "metadata": {
        "id": "hemN0FZWxyKU"
      },
      "execution_count": 44,
      "outputs": []
    },
    {
      "cell_type": "code",
      "source": [
        "c_xy=c_yx=float(covariance(X,Y))"
      ],
      "metadata": {
        "id": "HifJYOnKx5SK"
      },
      "execution_count": 45,
      "outputs": []
    },
    {
      "cell_type": "code",
      "source": [
        "c_xx=float(covariance(X,X))"
      ],
      "metadata": {
        "id": "LjiffIW6x88B"
      },
      "execution_count": 46,
      "outputs": []
    },
    {
      "cell_type": "code",
      "source": [
        "c_yy=float(covariance(Y,Y))"
      ],
      "metadata": {
        "id": "37at-e6ryAeR"
      },
      "execution_count": 47,
      "outputs": []
    },
    {
      "cell_type": "code",
      "source": [
        "c_metrics=np.array([[c_xx,c_xy],[c_yx,c_yy]])\n",
        "c_metrics"
      ],
      "metadata": {
        "colab": {
          "base_uri": "https://localhost:8080/",
          "height": 0
        },
        "id": "6ScbDo4-yEqe",
        "outputId": "d36ebdfa-4556-4f18-ad5f-dd07ba7f9ac9"
      },
      "execution_count": 48,
      "outputs": [
        {
          "output_type": "execute_result",
          "data": {
            "text/plain": [
              "array([[0.18835034, 0.13789683],\n",
              "       [0.13789683, 0.21064815]])"
            ]
          },
          "metadata": {},
          "execution_count": 48
        }
      ]
    },
    {
      "cell_type": "markdown",
      "source": [
        "**step 3 : finding eigen values**"
      ],
      "metadata": {
        "id": "zZN1wMj52bWN"
      }
    },
    {
      "cell_type": "markdown",
      "source": [
        "**step 4 : finding eigen vectors**"
      ],
      "metadata": {
        "id": "bVkHHNYx2dyn"
      }
    },
    {
      "cell_type": "code",
      "source": [
        "eigenvalues,eigenvectors=eig(c_metrics)"
      ],
      "metadata": {
        "id": "mPN8a1ppyJZ-"
      },
      "execution_count": 49,
      "outputs": []
    },
    {
      "cell_type": "code",
      "source": [
        "eigenvalues"
      ],
      "metadata": {
        "colab": {
          "base_uri": "https://localhost:8080/",
          "height": 0
        },
        "id": "2QTECTy4yNtD",
        "outputId": "fd0a69f4-5f11-42a9-a394-201ec09d0474"
      },
      "execution_count": 50,
      "outputs": [
        {
          "output_type": "execute_result",
          "data": {
            "text/plain": [
              "array([0.06115246, 0.33784603])"
            ]
          },
          "metadata": {},
          "execution_count": 50
        }
      ]
    },
    {
      "cell_type": "code",
      "source": [
        "eigenvectors"
      ],
      "metadata": {
        "colab": {
          "base_uri": "https://localhost:8080/",
          "height": 0
        },
        "id": "25Kp0tVGyRaX",
        "outputId": "ed2eb8bd-57dc-413b-c9d0-88a195625da3"
      },
      "execution_count": 51,
      "outputs": [
        {
          "output_type": "execute_result",
          "data": {
            "text/plain": [
              "array([[-0.73504648, -0.67801672],\n",
              "       [ 0.67801672, -0.73504648]])"
            ]
          },
          "metadata": {},
          "execution_count": 51
        }
      ]
    },
    {
      "cell_type": "code",
      "source": [
        "e1=eigenvectors[:,0]\n",
        "e1"
      ],
      "metadata": {
        "colab": {
          "base_uri": "https://localhost:8080/",
          "height": 0
        },
        "id": "ORBNCKcLySvm",
        "outputId": "4edfd134-a89f-4b4c-e7eb-5a3cfeb64329"
      },
      "execution_count": 52,
      "outputs": [
        {
          "output_type": "execute_result",
          "data": {
            "text/plain": [
              "array([-0.73504648,  0.67801672])"
            ]
          },
          "metadata": {},
          "execution_count": 52
        }
      ]
    },
    {
      "cell_type": "code",
      "source": [
        "e2=eigenvectors[:,1]\n",
        "e2"
      ],
      "metadata": {
        "colab": {
          "base_uri": "https://localhost:8080/",
          "height": 0
        },
        "id": "RXxBtpQHyWto",
        "outputId": "22bbcd7d-bdab-408a-ccb7-3c4a86834065"
      },
      "execution_count": 53,
      "outputs": [
        {
          "output_type": "execute_result",
          "data": {
            "text/plain": [
              "array([-0.67801672, -0.73504648])"
            ]
          },
          "metadata": {},
          "execution_count": 53
        }
      ]
    },
    {
      "cell_type": "code",
      "source": [
        "sub_xy=[]\n",
        "for i in range(len(X)):\n",
        "  x_comp=(X[i][0]-x_bar)\n",
        "  y_comp=(Y[i][0]-y_bar)\n",
        "  sub_xy.append([x_comp,y_comp])"
      ],
      "metadata": {
        "id": "dNjBEMJdyZRO"
      },
      "execution_count": 54,
      "outputs": []
    },
    {
      "cell_type": "code",
      "source": [
        "sub_xy"
      ],
      "metadata": {
        "colab": {
          "base_uri": "https://localhost:8080/",
          "height": 0
        },
        "id": "PXGTjJruycwP",
        "outputId": "a24706f1-efb4-46f6-9750-e1042211fb0e"
      },
      "execution_count": 55,
      "outputs": [
        {
          "output_type": "execute_result",
          "data": {
            "text/plain": [
              "[[-0.4821428571428571, -0.45833333333333337],\n",
              " [-0.1964285714285714, 0.20833333333333337],\n",
              " [0.1607142857142857, -0.2916666666666667],\n",
              " [0.5178571428571429, 0.5416666666666666]]"
            ]
          },
          "metadata": {},
          "execution_count": 55
        }
      ]
    },
    {
      "cell_type": "markdown",
      "source": [
        "**step 5 : finding pricipal component.**"
      ],
      "metadata": {
        "id": "3Ujohq2H2pGS"
      }
    },
    {
      "cell_type": "code",
      "source": [
        "pc1=[]\n",
        "pc2=[]\n",
        "for i in range(len(X)):\n",
        "  t=sub_xy[i]\n",
        "  t=np.array(t)\n",
        "  t=t.reshape(2,1)\n",
        "  e1=e1.reshape(1,2)\n",
        "  e2=e2.reshape(1,2)\n",
        "  p1=np.dot(e1,t)\n",
        "  p2=np.dot(e2,t)\n",
        "  pc1.append(p1[0][0])\n",
        "  pc2.append(p2[0][0])\n"
      ],
      "metadata": {
        "id": "QeJ2GtMbyeBP"
      },
      "execution_count": 56,
      "outputs": []
    },
    {
      "cell_type": "code",
      "source": [
        "pc1"
      ],
      "metadata": {
        "colab": {
          "base_uri": "https://localhost:8080/",
          "height": 0
        },
        "id": "aW7Ijo1AyhL4",
        "outputId": "5fddf5f9-d848-4ce6-987b-99f78ebd6da1"
      },
      "execution_count": 57,
      "outputs": [
        {
          "output_type": "execute_result",
          "data": {
            "text/plain": [
              "[0.043639745389303874,\n",
              " 0.2856376133200855,\n",
              " -0.3158873468114332,\n",
              " -0.013390011897956355]"
            ]
          },
          "metadata": {},
          "execution_count": 57
        }
      ]
    },
    {
      "cell_type": "code",
      "source": [
        "pc2"
      ],
      "metadata": {
        "colab": {
          "base_uri": "https://localhost:8080/",
          "height": 0
        },
        "id": "UyOoRy5byiCE",
        "outputId": "453aa88a-0d1d-48cd-fd91-63707a5ffef0"
      },
      "execution_count": 58,
      "outputs": [
        {
          "output_type": "execute_result",
          "data": {
            "text/plain": [
              "[0.6637972218687561,\n",
              " -0.019952827069176254,\n",
              " 0.10542158318641777,\n",
              " -0.7492659779859977]"
            ]
          },
          "metadata": {},
          "execution_count": 58
        }
      ]
    },
    {
      "cell_type": "code",
      "source": [
        "start_point = [x_bar, y_bar]\n",
        "end_point = [5, 5]\n",
        "line_points_1 = start_point + eigenvalues[0] * eigenvectors[:, 0]\n",
        "line_points_2 = start_point + eigenvalues[1] * eigenvectors[:, 1]\n",
        "\n",
        "plt.plot([start_point[0], line_points_1[0]], [start_point[1], line_points_1[1]], 'r')\n",
        "plt.plot([start_point[0], line_points_2[0]], [start_point[1], line_points_2[1]], 'b')\n",
        "\n",
        "plt.legend(loc='upper left')\n",
        "plt.title('Line Plot using Eigenvalues and Eigenvectors')\n",
        "plt.xlabel('X-axis')\n",
        "plt.ylabel('Y-axis')\n",
        "\n",
        "plt.xlim(-1, 1)\n",
        "plt.ylim(-1, 1)\n",
        "\n",
        "plt.show()"
      ],
      "metadata": {
        "colab": {
          "base_uri": "https://localhost:8080/",
          "height": 332
        },
        "id": "rVy7WA6Byi13",
        "outputId": "02d3d9e3-e65e-40cc-a587-fbd954e85937"
      },
      "execution_count": 59,
      "outputs": [
        {
          "output_type": "stream",
          "name": "stderr",
          "text": [
            "WARNING:matplotlib.legend:No artists with labels found to put in legend.  Note that artists whose label start with an underscore are ignored when legend() is called with no argument.\n"
          ]
        },
        {
          "output_type": "display_data",
          "data": {
            "text/plain": [
              "<Figure size 432x288 with 1 Axes>"
            ],
            "image/png": "[encoded data removed]"
          },
          "metadata": {
            "needs_background": "light"
          }
        }
      ]
    },
    {
      "cell_type": "code",
      "source": [
        "np.vdot(line_points_1,line_points_2)"
      ],
      "metadata": {
        "colab": {
          "base_uri": "https://localhost:8080/",
          "height": 0
        },
        "id": "_xYGlaDMynKc",
        "outputId": "112a30dd-8e92-4de4-d45a-711fea9f560d"
      },
      "execution_count": 60,
      "outputs": [
        {
          "output_type": "execute_result",
          "data": {
            "text/plain": [
              "0.21560124673474748"
            ]
          },
          "metadata": {},
          "execution_count": 60
        }
      ]
    },
    {
      "cell_type": "code",
      "source": [],
      "metadata": {
        "id": "hAchaICj7eBX"
      },
      "execution_count": 60,
      "outputs": []
    }
  ]
}